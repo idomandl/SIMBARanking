{
  "nbformat": 4,
  "nbformat_minor": 0,
  "metadata": {
    "colab": {
      "provenance": []
    },
    "kernelspec": {
      "name": "python3",
      "display_name": "Python 3"
    },
    "language_info": {
      "name": "python"
    }
  },
  "cells": [
    {
      "cell_type": "markdown",
      "source": [
        "# SIMBA Implementation with Transferabillity Ranking\n",
        "\n",
        "\n",
        "\n",
        "1.   download sorrugate models.\n",
        "2.   download models to attack.\n",
        "3.   implement simba attack with ranking\n",
        "4.   test on test data and compare results.\n",
        "\n"
      ],
      "metadata": {
        "id": "q1Pe0zTJD5Iz"
      }
    },
    {
      "cell_type": "markdown",
      "source": [
        "# Design of experiments\n",
        "## ranking:\n",
        "### dataset - Imagenet\n",
        "### models:\n",
        "\n",
        "*   \n",
        "*   List item\n",
        "\n",
        "\n",
        "\n"
      ],
      "metadata": {
        "id": "1w2dx_lpc8vS"
      }
    },
    {
      "cell_type": "code",
      "execution_count": null,
      "metadata": {
        "id": "HOji7mkEp48E"
      },
      "outputs": [],
      "source": []
    }
  ]
}